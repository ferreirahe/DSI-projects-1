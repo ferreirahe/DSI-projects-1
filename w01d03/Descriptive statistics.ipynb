{
 "cells": [
  {
   "cell_type": "markdown",
   "metadata": {},
   "source": [
    "### Descriptive statistics\n",
    "#### Some statistics\n",
    "For a normal distribution, mean, median and mode are the same\n",
    "* Mean: average\n",
    "* Median: value so there are 50 % below and 50% above\n",
    "* Mode: most frequent value\n",
    "\n",
    "Mean is more sensitive to extreme values than median"
   ]
  },
  {
   "cell_type": "code",
   "execution_count": 2,
   "metadata": {
    "collapsed": false
   },
   "outputs": [
    {
     "data": {
      "text/plain": [
       "[0, 1, 2, 3, 4, 5, 6, 7, 8, 9, 10, 11, 12, 13, 14, 15, 16, 17, 18, 19]"
      ]
     },
     "execution_count": 2,
     "metadata": {},
     "output_type": "execute_result"
    }
   ],
   "source": [
    "# Define our data set\n",
    "set1 = list(range(20))\n",
    "set1"
   ]
  },
  {
   "cell_type": "code",
   "execution_count": 12,
   "metadata": {
    "collapsed": false
   },
   "outputs": [
    {
     "name": "stdout",
     "output_type": "stream",
     "text": [
      "9.5\n",
      "[0]\n",
      "9.5\n"
     ]
    }
   ],
   "source": [
    "# Force python 3 division behaviour\n",
    "from __future__ import division\n",
    "# Calculate the mean\n",
    "n_mean = sum(set1) / len(set1)\n",
    "print(n_mean)\n",
    "# Calculate mode\n",
    "from scipy.stats import mode\n",
    "n_mode = mode(set1)\n",
    "print(n_mode[0])\n",
    "# Calculate median\n",
    "import numpy as np\n",
    "n_median = np.median(set1)\n",
    "print(n_median)"
   ]
  },
  {
   "cell_type": "markdown",
   "metadata": {},
   "source": [
    "#### Skewness\n",
    "* Negarive skewed: highest point on the right. Area on the left of mode is bigger than area of right\n",
    "* Positive skewed: the opposite\n",
    "\n",
    "#### Variability\n",
    "* Variance: sum(m-x)2 / n with m mean of population, x values in population and n size of the population\n",
    "* Standard deviation: root square of the variance\n",
    "* Range \n",
    "\n",
    "Variance and sd are very sensitive to outliers"
   ]
  },
  {
   "cell_type": "code",
   "execution_count": 20,
   "metadata": {
    "collapsed": false
   },
   "outputs": [
    {
     "name": "stdout",
     "output_type": "stream",
     "text": [
      "33.25\n",
      "5.76628129734\n",
      "5.76628129734\n"
     ]
    }
   ],
   "source": [
    "# Variance\n",
    "variance = []\n",
    "for n_ in set1:\n",
    "    variance.append((n_mean - n_)**2)\n",
    "variance = np.sum(variance) / len(set1)\n",
    "print(variance)\n",
    "print(np.sqrt(variance))\n",
    "print(np.std(set1))"
   ]
  },
  {
   "cell_type": "markdown",
   "metadata": {
    "collapsed": true
   },
   "source": [
    "#### Article about the use of standard deviation versus mean deviation\n",
    "[The advantages of mean deviation](goo.gl/Jd8iT0)\n",
    "\n",
    "The mean deviation is defined as follows:\n",
    "$$\\sum_{i=1}^n \\frac{\\mid x_i - \\bar{x}\\mid }{n}$$\n",
    "\n",
    "The standard deviation is defined as follows\n",
    "$$\\sum_{i=1}^n \\frac{(x_i - \\bar{x})^2}{n}$$\n",
    "\n",
    "In essence it is said that the main reasons why we historically used standard deviation (SD) instead of mean deviation (MD) are no longer valid:\n",
    "* MD is more accurate: this is only true for normal distribution without measurement error (perfect case). This case is never met in real life\n",
    "* MD is easier to calculate: this is no longer the case since computer do the job. Back in early XIXth century it was seen as more complex to calculate absolute value than square values.\n",
    "\n",
    "Also is it noted that SD, because of the use of square, tends to be over sensitive to outliers. This results in bad behaviour such as removing outliers before calculating statistics! This may lead to ignoring rare but possible elements of the population (can be related to the 2008 subprime crisis)"
   ]
  },
  {
   "cell_type": "code",
   "execution_count": null,
   "metadata": {
    "collapsed": true
   },
   "outputs": [],
   "source": []
  },
  {
   "cell_type": "code",
   "execution_count": null,
   "metadata": {
    "collapsed": true
   },
   "outputs": [],
   "source": []
  },
  {
   "cell_type": "code",
   "execution_count": null,
   "metadata": {
    "collapsed": true
   },
   "outputs": [],
   "source": []
  }
 ],
 "metadata": {
  "anaconda-cloud": {},
  "kernelspec": {
   "display_name": "Python [conda root]",
   "language": "python",
   "name": "conda-root-py"
  },
  "language_info": {
   "codemirror_mode": {
    "name": "ipython",
    "version": 2
   },
   "file_extension": ".py",
   "mimetype": "text/x-python",
   "name": "python",
   "nbconvert_exporter": "python",
   "pygments_lexer": "ipython2",
   "version": "2.7.12"
  }
 },
 "nbformat": 4,
 "nbformat_minor": 1
}
